{
 "cells": [
  {
   "cell_type": "markdown",
   "id": "23c4a47b-bf6c-4464-92c0-631d522a9239",
   "metadata": {},
   "source": [
    "### This notebook attempted to generate 500 millions simulated weather balloon data"
   ]
  },
  {
   "cell_type": "code",
   "execution_count": 1,
   "id": "00f3dbbd-48fc-4684-8daa-fb3444c1c1d3",
   "metadata": {},
   "outputs": [],
   "source": [
    "from datetime import datetime, timedelta\n",
    "import pandas as pd\n",
    "import numpy as np\n",
    "import random\n",
    "from tqdm import tqdm\n",
    "from tqdm.notebook import tqdm_notebook\n",
    "\n",
    "import logging\n",
    "\n",
    "import matplotlib.pyplot as plt\n"
   ]
  },
  {
   "cell_type": "markdown",
   "id": "3bf3de9a-3f3d-473a-b507-b4e5a660888b",
   "metadata": {},
   "source": [
    "#### Next, we define some basic settings for each field we want to generated, this would effect our output data:\n",
    "#### Set number of samples N_SAMPLES=500,000,000\n",
    "#### Set temperature field: in range(-273, 100), and variance of temperature\n",
    "#### Set location (latitude, longitude): latitude in range(-90, 90), longitude in range(-180, 180), and setup variance in each of them\n",
    "#### Set observatory site: country code for 245 countries https://developers.google.cn/public-data/docs/canonical/countries_csv"
   ]
  },
  {
   "cell_type": "code",
   "execution_count": 2,
   "id": "77546feb-99e6-4564-86bd-8cb33829e093",
   "metadata": {},
   "outputs": [
    {
     "name": "stdout",
     "output_type": "stream",
     "text": [
      "Initial starting timestamp defined.\n",
      "Location settings defined.\n",
      "Country code defined.\n",
      "CPU times: user 12.7 ms, sys: 1.22 ms, total: 13.9 ms\n",
      "Wall time: 335 ms\n"
     ]
    }
   ],
   "source": [
    "%%time\n",
    "\n",
    "# Each field are generate independently\n",
    "\n",
    "N_SAMPLES=500000000\n",
    "\n",
    "# Timestamp configuration\n",
    "current_time=\"1902-01-01 00:00:00\"\n",
    "current_time = datetime.strptime(current_time, \"%Y-%m-%d %H:%M:%S\")\n",
    "print(\"Initial starting timestamp defined.\")\n",
    "\n",
    "# Temperature configuration\n",
    "init_tmp = random.randint(-273, 300)\n",
    "variance_temp = 20\n",
    "\n",
    "# Location configuration\n",
    "long_max, long_min = 180, -180\n",
    "lat_max, lat_min = 90, -90\n",
    "variance_long = 10\n",
    "variance_lat = 5\n",
    "init_long = random.random()*( long_min + (long_max - long_min) )\n",
    "init_lat = random.random()* ( lat_min + (lat_max - lat_min) )\n",
    "long_lat_current = [init_long, init_lat] # Initial location\n",
    "\n",
    "print(\"Location settings defined.\")\n",
    "\n",
    "# Observatory configuration\n",
    "code = pd.read_csv(\"country_code.csv\") # Contains 245 country codes\n",
    "code = code[\"code\"].dropna()\n",
    "code.replace(\"GB\", \"UK\", inplace = True)\n",
    "print(\"Country code defined.\")\n"
   ]
  },
  {
   "cell_type": "markdown",
   "id": "ddb93790-9cfe-4e0c-95db-3303b1e0068e",
   "metadata": {},
   "source": [
    "#### Setup missing probability for timestamp\n",
    "#### Generate probability of missing for timestamp by random(), and create the expected generated samples by N_SAMPLES*(1 + missing_probability)"
   ]
  },
  {
   "cell_type": "code",
   "execution_count": 4,
   "id": "60cb7714-5953-4470-b018-ea29231dfe05",
   "metadata": {},
   "outputs": [
    {
     "name": "stdout",
     "output_type": "stream",
     "text": [
      "Missing probability for timestamp:  0.25\n",
      "Total number of timestamp we generate: 625000000\n"
     ]
    }
   ],
   "source": [
    "missing_proba = round(random.uniform(0, 0.3), 2)\n",
    "\n",
    "n_timestamp = N_SAMPLES*(1 + missing_proba)\n",
    "n_timestamp = int(n_timestamp)\n",
    "\n",
    "print(\"Missing probability for timestamp: \", missing_proba)\n",
    "print(\"Total number of timestamp we generate:\", n_timestamp)"
   ]
  },
  {
   "cell_type": "code",
   "execution_count": 3,
   "id": "296e556a-1085-423f-adde-bb428c66e47f",
   "metadata": {},
   "outputs": [
    {
     "data": {
      "text/plain": [
       "0"
      ]
     },
     "execution_count": 3,
     "metadata": {},
     "output_type": "execute_result"
    }
   ],
   "source": [
    "import gc\n",
    "gc.collect()\n"
   ]
  },
  {
   "cell_type": "code",
   "execution_count": 7,
   "id": "7a2cb7ee-55d3-4a84-a096-90b6c1092dbe",
   "metadata": {},
   "outputs": [
    {
     "name": "stdout",
     "output_type": "stream",
     "text": [
      "Generate 625000000 timestamp finished.\n"
     ]
    }
   ],
   "source": [
    "\n",
    "timestamp_samples = [current_time + timedelta(minutes=mi) for mi in range(n_timestamp)]\n",
    "\n",
    "print(\"Generate {} timestamp finished.\".format(n_timestamp))"
   ]
  },
  {
   "cell_type": "code",
   "execution_count": 9,
   "id": "fa18bdd2-e0bc-45e4-985e-3efce7584569",
   "metadata": {},
   "outputs": [
    {
     "name": "stdout",
     "output_type": "stream",
     "text": [
      "Write timestamp data to txt file.\n"
     ]
    }
   ],
   "source": [
    "\n",
    "with open(\"timestamp_sample.txt\", \"w\") as file:\n",
    "    for row in timestamp_samples:\n",
    "        sample = row.strftime(\"%Y-%m-%d %H:%M:%S\")\n",
    "        file.write(sample + \"\\n\")\n",
    "\n",
    "print(\"Write timestamp data to txt file.\")"
   ]
  },
  {
   "cell_type": "code",
   "execution_count": null,
   "id": "e8cff20d-9548-431b-8551-1539318513be",
   "metadata": {},
   "outputs": [],
   "source": [
    "%%time\n",
    "\n",
    "with open(\"./generated_data/timestamp_sample.txt\", \"r\") as file:\n",
    "    timestamp_samples = file.read()\n",
    "    \n",
    "print(\"Check timestamp data generated.\")\n",
    "\n",
    "timestamp_samples[0:5]"
   ]
  },
  {
   "cell_type": "markdown",
   "id": "03660287-7355-461b-822e-55d196a5ff6e",
   "metadata": {},
   "source": [
    "#### Convert timestamp data to list, and random select 500,000,000 samples from it"
   ]
  },
  {
   "cell_type": "code",
   "execution_count": 17,
   "id": "0dd22efd-e526-4072-bcd3-2b610a7db53b",
   "metadata": {},
   "outputs": [
    {
     "name": "stdout",
     "output_type": "stream",
     "text": [
      "CPU times: user 39min 38s, sys: 2min 8s, total: 41min 47s\n",
      "Wall time: 43min 8s\n"
     ]
    }
   ],
   "source": [
    "%%time\n",
    "timestamp_samples = list(timestamp_samples)"
   ]
  },
  {
   "cell_type": "code",
   "execution_count": null,
   "id": "2bc4c157-57f9-4e1b-b63d-006671711535",
   "metadata": {},
   "outputs": [],
   "source": [
    "%%time\n",
    "\n",
    "timestamp_data = random.choices(timestamp_samples, k=N_SAMPLES)\n",
    "\n",
    "print(timestamp_data[0:5])"
   ]
  },
  {
   "cell_type": "markdown",
   "id": "7853bc80-c11c-42c3-b704-611e70ee694c",
   "metadata": {},
   "source": [
    "#### Generate around 2 millions of samples for each observatory site, save as country_list.csv"
   ]
  },
  {
   "cell_type": "code",
   "execution_count": 3,
   "id": "14b2adbd-7fa5-45d4-afcd-66d9fb2a60de",
   "metadata": {},
   "outputs": [
    {
     "data": {
      "text/plain": [
       "(500000000, 1)"
      ]
     },
     "execution_count": 3,
     "metadata": {},
     "output_type": "execute_result"
    }
   ],
   "source": [
    "#%%time \n",
    "\n",
    "country_df = pd.read_csv(\"country_list.csv\")\n",
    "\n",
    "country_df.shape"
   ]
  },
  {
   "cell_type": "code",
   "execution_count": 8,
   "id": "d5dc5ded-3bbb-4eb7-91e9-a9f552e8e2a3",
   "metadata": {},
   "outputs": [
    {
     "data": {
      "text/html": [
       "<div>\n",
       "<style scoped>\n",
       "    .dataframe tbody tr th:only-of-type {\n",
       "        vertical-align: middle;\n",
       "    }\n",
       "\n",
       "    .dataframe tbody tr th {\n",
       "        vertical-align: top;\n",
       "    }\n",
       "\n",
       "    .dataframe thead th {\n",
       "        text-align: right;\n",
       "    }\n",
       "</style>\n",
       "<table border=\"1\" class=\"dataframe\">\n",
       "  <thead>\n",
       "    <tr style=\"text-align: right;\">\n",
       "      <th></th>\n",
       "      <th>country_code</th>\n",
       "    </tr>\n",
       "  </thead>\n",
       "  <tbody>\n",
       "    <tr>\n",
       "      <th>0</th>\n",
       "      <td>BG</td>\n",
       "    </tr>\n",
       "    <tr>\n",
       "      <th>1</th>\n",
       "      <td>TT</td>\n",
       "    </tr>\n",
       "    <tr>\n",
       "      <th>2</th>\n",
       "      <td>KR</td>\n",
       "    </tr>\n",
       "    <tr>\n",
       "      <th>3</th>\n",
       "      <td>TP</td>\n",
       "    </tr>\n",
       "    <tr>\n",
       "      <th>4</th>\n",
       "      <td>SE</td>\n",
       "    </tr>\n",
       "  </tbody>\n",
       "</table>\n",
       "</div>"
      ],
      "text/plain": [
       "  country_code\n",
       "0           BG\n",
       "1           TT\n",
       "2           KR\n",
       "3           TP\n",
       "4           SE"
      ]
     },
     "execution_count": 8,
     "metadata": {},
     "output_type": "execute_result"
    }
   ],
   "source": [
    "country_df.head()"
   ]
  },
  {
   "cell_type": "markdown",
   "id": "d2fb5fe5-ac6a-46f7-aedf-019179e9c1ae",
   "metadata": {},
   "source": [
    "#### Display number of samples for each observatory site"
   ]
  },
  {
   "cell_type": "code",
   "execution_count": 4,
   "id": "d8729e16-9a70-475b-b8d0-433be048f9fb",
   "metadata": {},
   "outputs": [
    {
     "name": "stdout",
     "output_type": "stream",
     "text": [
      "CPU times: user 25.2 s, sys: 14.7 s, total: 39.9 s\n",
      "Wall time: 46.2 s\n"
     ]
    },
    {
     "data": {
      "text/plain": [
       "country_code\n",
       "AD    2041896\n",
       "AE    2042104\n",
       "AF    2041586\n",
       "AG    2039300\n",
       "AI    2039408\n",
       "       ...   \n",
       "YE    2040929\n",
       "YT    2042763\n",
       "ZA    2040002\n",
       "ZM    2040939\n",
       "ZW    2040766\n",
       "Length: 245, dtype: int64"
      ]
     },
     "execution_count": 4,
     "metadata": {},
     "output_type": "execute_result"
    }
   ],
   "source": [
    "%%time\n",
    "\n",
    "country_cnt = country_df.groupby(['country_code']).size()\n",
    "country_cnt"
   ]
  },
  {
   "cell_type": "markdown",
   "id": "8e2a45ca-6fc4-47bd-8240-608f4c336155",
   "metadata": {},
   "source": [
    "#### Generate simulated data: temperature & location\n",
    "#### We simulate data in each observatory site, the weather balloon scan around an area (latitude, longitude) and detects temperature, thus we generate random value with an initial value and a random variant\n",
    "#### First, generate temperature around each site"
   ]
  },
  {
   "cell_type": "code",
   "execution_count": 43,
   "id": "0a5698c5-36a2-4f6f-ab53-ec3bacfca143",
   "metadata": {},
   "outputs": [
    {
     "name": "stdout",
     "output_type": "stream",
     "text": [
      "CPU times: user 23.3 s, sys: 964 ms, total: 24.3 s\n",
      "Wall time: 24.3 s\n"
     ]
    }
   ],
   "source": [
    "%%time\n",
    "\n",
    "temp_variance = 3\n",
    "\n",
    "temp_values = {}\n",
    "\n",
    "for country in list(country_cnt.index):\n",
    "    init_temp = random.randint(-273, 100)\n",
    "    country_temp = np.random.normal(init_temp, 0.1, country_cnt[country])\n",
    "\n",
    "    temp_values[country] = country_temp\n",
    "    gc.collect()\n",
    "\n"
   ]
  },
  {
   "cell_type": "code",
   "execution_count": 50,
   "id": "f91a9b97-2331-4acf-b6d1-54d38271606d",
   "metadata": {},
   "outputs": [
    {
     "data": {
      "text/plain": [
       "(2041896, 1)"
      ]
     },
     "execution_count": 50,
     "metadata": {},
     "output_type": "execute_result"
    }
   ],
   "source": [
    "x = temp_values['AD'].reshape(len(temp_values['AD']), 1)\n",
    "x.shape"
   ]
  },
  {
   "cell_type": "markdown",
   "id": "4b434e5f-c2fb-44cc-b055-d34731cee72f",
   "metadata": {},
   "source": [
    "#### Save temperature data to composite dataframe"
   ]
  },
  {
   "cell_type": "code",
   "execution_count": 91,
   "id": "4d99e536-e0fc-478e-9970-7e06b484e06b",
   "metadata": {},
   "outputs": [
    {
     "name": "stderr",
     "output_type": "stream",
     "text": [
      "100%|██████████████████████████████████████████████████████████| 245/245 [1:36:27<00:00, 23.62s/it]"
     ]
    },
    {
     "name": "stdout",
     "output_type": "stream",
     "text": [
      "CPU times: user 1h 33min 21s, sys: 2min 21s, total: 1h 35min 43s\n",
      "Wall time: 1h 36min 38s\n"
     ]
    },
    {
     "name": "stderr",
     "output_type": "stream",
     "text": [
      "\n"
     ]
    },
    {
     "data": {
      "text/plain": [
       "23"
      ]
     },
     "execution_count": 91,
     "metadata": {},
     "output_type": "execute_result"
    }
   ],
   "source": [
    "%%time\n",
    "\n",
    "\n",
    "country_df[\"temp\"] = None\n",
    "\n",
    "for i in tqdm(range(len(country_cnt))):\n",
    "    country = country_cnt.index[i]\n",
    "\n",
    "    country_df.loc[country_df[\"country_code\"] == country, \"temp\"] = temp_values[country]\n",
    "    \n",
    "\n",
    "gc.collect()"
   ]
  },
  {
   "cell_type": "code",
   "execution_count": 92,
   "id": "b251c89f-e76d-4747-b688-f5deb543a2ae",
   "metadata": {},
   "outputs": [
    {
     "name": "stdout",
     "output_type": "stream",
     "text": [
      "CPU times: user 15min 1s, sys: 1min 6s, total: 16min 8s\n",
      "Wall time: 17min 8s\n"
     ]
    }
   ],
   "source": [
    "%%time\n",
    "\n",
    "from tqdm import tqdm\n",
    "# Save data to file first after a period\n",
    "\n",
    "country_df.to_csv(\"country_df_temp.csv\", index = False)"
   ]
  },
  {
   "cell_type": "code",
   "execution_count": 3,
   "id": "382ac50f-31d4-4b6e-8ab7-edfaac487280",
   "metadata": {},
   "outputs": [],
   "source": [
    "country_df = pd.read_csv(\"country_df_temp.csv\")\n",
    "country_df = country_df[\"country_code\"]"
   ]
  },
  {
   "cell_type": "markdown",
   "id": "1a6b74d5-84af-425f-9b04-20d1f890e40b",
   "metadata": {},
   "source": [
    "#### Next, generate longitude for each observatory site\n",
    "#### For each site, generate random initial longitude coordinate, add random variant to create simulated samples"
   ]
  },
  {
   "cell_type": "code",
   "execution_count": 7,
   "id": "97b5f064-e992-4ca2-a33d-0452e671fa6d",
   "metadata": {},
   "outputs": [
    {
     "name": "stderr",
     "output_type": "stream",
     "text": [
      "100%|████████████████████████████████████████████████████████████| 245/245 [00:23<00:00, 10.58it/s]"
     ]
    },
    {
     "name": "stdout",
     "output_type": "stream",
     "text": [
      "CPU times: user 22.3 s, sys: 867 ms, total: 23.2 s\n",
      "Wall time: 23.2 s\n"
     ]
    },
    {
     "name": "stderr",
     "output_type": "stream",
     "text": [
      "\n"
     ]
    }
   ],
   "source": [
    "%%time\n",
    "\n",
    "# location\n",
    "\n",
    "country_location_long = {}\n",
    "\n",
    "for country in tqdm(list(country_cnt.index)):\n",
    "    # Random initial location for each country\n",
    "    init_long = random.random()*( long_min + (long_max - long_min) )\n",
    "    samples_long = np.random.normal(init_long, variance_long, country_cnt[country])\n",
    "\n",
    "    \n",
    "    country_location_long[country] = samples_long\n",
    "    gc.collect()\n",
    "    "
   ]
  },
  {
   "cell_type": "markdown",
   "id": "4cf40167-11ae-429c-84ed-b641b994b100",
   "metadata": {},
   "source": [
    "#### Next, generate latitude data for each site"
   ]
  },
  {
   "cell_type": "code",
   "execution_count": 9,
   "id": "675d5321-d368-4700-b571-35819676d57e",
   "metadata": {},
   "outputs": [
    {
     "name": "stderr",
     "output_type": "stream",
     "text": [
      "100%|████████████████████████████████████████████████████████████| 245/245 [00:22<00:00, 10.71it/s]\n"
     ]
    }
   ],
   "source": [
    "country_location_lat = {}\n",
    "\n",
    "for country in tqdm(list(country_cnt.index)):\n",
    "    # Random initial location for each country\n",
    "    init_lat = random.random()*( lat_min + (lat_max - lat_min) )\n",
    "    samples_lat = np.random.normal(init_lat, variance_lat, country_cnt[country])\n",
    "\n",
    "    \n",
    "    country_location_lat[country] = samples_lat\n",
    "    gc.collect()"
   ]
  },
  {
   "cell_type": "markdown",
   "id": "927416da-3580-4ac0-a576-d88f872ae045",
   "metadata": {},
   "source": [
    "#### After generate the simulated location, save data to composite dataframe\n",
    "#### Save longitude data to dataframe"
   ]
  },
  {
   "cell_type": "code",
   "execution_count": 11,
   "id": "974ee0c2-6025-4249-842c-b641f6a2bf5c",
   "metadata": {},
   "outputs": [
    {
     "name": "stderr",
     "output_type": "stream",
     "text": [
      "100%|██████████████████████████████████████████████████████████| 245/245 [1:55:38<00:00, 28.32s/it]"
     ]
    },
    {
     "name": "stdout",
     "output_type": "stream",
     "text": [
      "CPU times: user 1h 36min 27s, sys: 12min 26s, total: 1h 48min 54s\n",
      "Wall time: 1h 55min 43s\n"
     ]
    },
    {
     "name": "stderr",
     "output_type": "stream",
     "text": [
      "\n"
     ]
    }
   ],
   "source": [
    "%%time\n",
    "\n",
    "country_df[\"longitude\"] = None\n",
    "\n",
    "for i in tqdm(range(len(country_cnt))):\n",
    "    country = country_cnt.index[i]\n",
    "    country_df.loc[country_df[\"country_code\"] == country, \"longitude\"] = country_location_long[country]\n",
    "    \n",
    "    gc.collect()"
   ]
  },
  {
   "cell_type": "code",
   "execution_count": 12,
   "id": "48402429-1ef3-41ae-b83f-1b0fb7913bdb",
   "metadata": {},
   "outputs": [
    {
     "data": {
      "text/html": [
       "<div>\n",
       "<style scoped>\n",
       "    .dataframe tbody tr th:only-of-type {\n",
       "        vertical-align: middle;\n",
       "    }\n",
       "\n",
       "    .dataframe tbody tr th {\n",
       "        vertical-align: top;\n",
       "    }\n",
       "\n",
       "    .dataframe thead th {\n",
       "        text-align: right;\n",
       "    }\n",
       "</style>\n",
       "<table border=\"1\" class=\"dataframe\">\n",
       "  <thead>\n",
       "    <tr style=\"text-align: right;\">\n",
       "      <th></th>\n",
       "      <th>country_code</th>\n",
       "      <th>longitude</th>\n",
       "    </tr>\n",
       "  </thead>\n",
       "  <tbody>\n",
       "    <tr>\n",
       "      <th>0</th>\n",
       "      <td>BG</td>\n",
       "      <td>130.494</td>\n",
       "    </tr>\n",
       "    <tr>\n",
       "      <th>1</th>\n",
       "      <td>TT</td>\n",
       "      <td>181.89</td>\n",
       "    </tr>\n",
       "    <tr>\n",
       "      <th>2</th>\n",
       "      <td>KR</td>\n",
       "      <td>29.1778</td>\n",
       "    </tr>\n",
       "    <tr>\n",
       "      <th>3</th>\n",
       "      <td>TP</td>\n",
       "      <td>108.327</td>\n",
       "    </tr>\n",
       "    <tr>\n",
       "      <th>4</th>\n",
       "      <td>SE</td>\n",
       "      <td>119.197</td>\n",
       "    </tr>\n",
       "  </tbody>\n",
       "</table>\n",
       "</div>"
      ],
      "text/plain": [
       "  country_code longitude\n",
       "0           BG   130.494\n",
       "1           TT    181.89\n",
       "2           KR   29.1778\n",
       "3           TP   108.327\n",
       "4           SE   119.197"
      ]
     },
     "execution_count": 12,
     "metadata": {},
     "output_type": "execute_result"
    }
   ],
   "source": [
    "country_df.head()"
   ]
  },
  {
   "cell_type": "code",
   "execution_count": 13,
   "id": "fead6e67-2044-4786-b1d5-feed708943e9",
   "metadata": {},
   "outputs": [
    {
     "name": "stdout",
     "output_type": "stream",
     "text": [
      "CPU times: user 14min 34s, sys: 2min 54s, total: 17min 28s\n",
      "Wall time: 19min 46s\n"
     ]
    }
   ],
   "source": [
    "%%time\n",
    "\n",
    "country_df[\"longitude\"].to_csv(\"country_df_longitude.csv\", index = False)\n",
    "\n"
   ]
  },
  {
   "cell_type": "markdown",
   "id": "5000bfc2-fd7a-4e09-bb70-ba0fb2c38968",
   "metadata": {},
   "source": [
    "#### Save latitude data to dataframe"
   ]
  },
  {
   "cell_type": "code",
   "execution_count": 15,
   "id": "601050f9-415c-4e05-b78c-b4ef9ab8c73b",
   "metadata": {},
   "outputs": [
    {
     "name": "stderr",
     "output_type": "stream",
     "text": [
      "100%|██████████████████████████████████████████████████████████| 245/245 [1:36:30<00:00, 23.63s/it]"
     ]
    },
    {
     "name": "stdout",
     "output_type": "stream",
     "text": [
      "CPU times: user 1h 29min 57s, sys: 4min 16s, total: 1h 34min 13s\n",
      "Wall time: 1h 36min 33s\n"
     ]
    },
    {
     "name": "stderr",
     "output_type": "stream",
     "text": [
      "\n"
     ]
    }
   ],
   "source": [
    "%%time\n",
    "\n",
    "country_df[\"latitude\"] = None\n",
    "\n",
    "for i in tqdm(range(len(country_cnt))):\n",
    "    country = country_cnt.index[i]\n",
    "    country_df.loc[country_df[\"country_code\"] == country, \"latitude\"] = country_location_lat[country]\n",
    "    \n",
    "    gc.collect()\n",
    "    \n",
    "    "
   ]
  },
  {
   "cell_type": "code",
   "execution_count": 16,
   "id": "4bfe4346-8542-409b-bd96-56eeaf5a82dc",
   "metadata": {},
   "outputs": [
    {
     "data": {
      "text/html": [
       "<div>\n",
       "<style scoped>\n",
       "    .dataframe tbody tr th:only-of-type {\n",
       "        vertical-align: middle;\n",
       "    }\n",
       "\n",
       "    .dataframe tbody tr th {\n",
       "        vertical-align: top;\n",
       "    }\n",
       "\n",
       "    .dataframe thead th {\n",
       "        text-align: right;\n",
       "    }\n",
       "</style>\n",
       "<table border=\"1\" class=\"dataframe\">\n",
       "  <thead>\n",
       "    <tr style=\"text-align: right;\">\n",
       "      <th></th>\n",
       "      <th>country_code</th>\n",
       "      <th>longitude</th>\n",
       "      <th>latitude</th>\n",
       "    </tr>\n",
       "  </thead>\n",
       "  <tbody>\n",
       "    <tr>\n",
       "      <th>0</th>\n",
       "      <td>BG</td>\n",
       "      <td>130.494</td>\n",
       "      <td>28.0908</td>\n",
       "    </tr>\n",
       "    <tr>\n",
       "      <th>1</th>\n",
       "      <td>TT</td>\n",
       "      <td>181.89</td>\n",
       "      <td>30.8252</td>\n",
       "    </tr>\n",
       "    <tr>\n",
       "      <th>2</th>\n",
       "      <td>KR</td>\n",
       "      <td>29.1778</td>\n",
       "      <td>76.6717</td>\n",
       "    </tr>\n",
       "    <tr>\n",
       "      <th>3</th>\n",
       "      <td>TP</td>\n",
       "      <td>108.327</td>\n",
       "      <td>51.6136</td>\n",
       "    </tr>\n",
       "    <tr>\n",
       "      <th>4</th>\n",
       "      <td>SE</td>\n",
       "      <td>119.197</td>\n",
       "      <td>12.0121</td>\n",
       "    </tr>\n",
       "  </tbody>\n",
       "</table>\n",
       "</div>"
      ],
      "text/plain": [
       "  country_code longitude latitude\n",
       "0           BG   130.494  28.0908\n",
       "1           TT    181.89  30.8252\n",
       "2           KR   29.1778  76.6717\n",
       "3           TP   108.327  51.6136\n",
       "4           SE   119.197  12.0121"
      ]
     },
     "execution_count": 16,
     "metadata": {},
     "output_type": "execute_result"
    }
   ],
   "source": [
    "country_df.head()"
   ]
  },
  {
   "cell_type": "code",
   "execution_count": 17,
   "id": "5ae2fcf4-8e58-460f-8d3d-7399139cfd97",
   "metadata": {},
   "outputs": [
    {
     "name": "stdout",
     "output_type": "stream",
     "text": [
      "CPU times: user 14min 9s, sys: 2min 18s, total: 16min 27s\n",
      "Wall time: 18min 5s\n"
     ]
    }
   ],
   "source": [
    "%%time\n",
    "\n",
    "country_df[\"latitude\"].to_csv(\"country_df_latitude.csv\", index = False)\n"
   ]
  },
  {
   "cell_type": "code",
   "execution_count": 1,
   "id": "b018a893-d814-440a-a455-6138871cba08",
   "metadata": {},
   "outputs": [
    {
     "name": "stdout",
     "output_type": "stream",
     "text": [
      "CPU times: user 4min 41s, sys: 5min 12s, total: 9min 54s\n",
      "Wall time: 13min 27s\n"
     ]
    },
    {
     "data": {
      "text/html": [
       "<div>\n",
       "<style scoped>\n",
       "    .dataframe tbody tr th:only-of-type {\n",
       "        vertical-align: middle;\n",
       "    }\n",
       "\n",
       "    .dataframe tbody tr th {\n",
       "        vertical-align: top;\n",
       "    }\n",
       "\n",
       "    .dataframe thead th {\n",
       "        text-align: right;\n",
       "    }\n",
       "</style>\n",
       "<table border=\"1\" class=\"dataframe\">\n",
       "  <thead>\n",
       "    <tr style=\"text-align: right;\">\n",
       "      <th></th>\n",
       "      <th>0</th>\n",
       "    </tr>\n",
       "  </thead>\n",
       "  <tbody>\n",
       "    <tr>\n",
       "      <th>0</th>\n",
       "      <td>1902-01-01 00:00:00</td>\n",
       "    </tr>\n",
       "    <tr>\n",
       "      <th>1</th>\n",
       "      <td>1902-01-01 00:01:00</td>\n",
       "    </tr>\n",
       "    <tr>\n",
       "      <th>2</th>\n",
       "      <td>1902-01-01 00:02:00</td>\n",
       "    </tr>\n",
       "    <tr>\n",
       "      <th>3</th>\n",
       "      <td>1902-01-01 00:03:00</td>\n",
       "    </tr>\n",
       "    <tr>\n",
       "      <th>4</th>\n",
       "      <td>1902-01-01 00:04:00</td>\n",
       "    </tr>\n",
       "  </tbody>\n",
       "</table>\n",
       "</div>"
      ],
      "text/plain": [
       "                     0\n",
       "0  1902-01-01 00:00:00\n",
       "1  1902-01-01 00:01:00\n",
       "2  1902-01-01 00:02:00\n",
       "3  1902-01-01 00:03:00\n",
       "4  1902-01-01 00:04:00"
      ]
     },
     "execution_count": 1,
     "metadata": {},
     "output_type": "execute_result"
    }
   ],
   "source": [
    "%%time\n",
    "\n",
    "import pandas as pd\n",
    "import random\n",
    "\n",
    "# Get N_samples from timestamp\n",
    "\n",
    "timestamp = pd.read_csv(\"timestamp_sample.txt\", header=None)\n",
    "\n",
    "timestamp.head()\n",
    "\n"
   ]
  },
  {
   "cell_type": "markdown",
   "id": "0a7e97aa-48d0-4c9c-84d0-6d745f1fe2b2",
   "metadata": {},
   "source": [
    "### Finally we get the generated data: \n",
    "#### timestamp_sample.txt\n",
    "#### country_df_latitude.csv\n",
    "#### country_df_longitude.csv\n",
    "#### country_df_temp.csv (with country code and temperature)\n",
    "### We would randomly insert NULL values into fields other then timestamp to simulate the reliability of data collection, which would be done in database server"
   ]
  },
  {
   "cell_type": "code",
   "execution_count": null,
   "id": "8f2a3efb-6174-4417-9a42-a8eb46b413b3",
   "metadata": {},
   "outputs": [],
   "source": []
  }
 ],
 "metadata": {
  "kernelspec": {
   "display_name": "Python 3 (ipykernel)",
   "language": "python",
   "name": "python3"
  },
  "language_info": {
   "codemirror_mode": {
    "name": "ipython",
    "version": 3
   },
   "file_extension": ".py",
   "mimetype": "text/x-python",
   "name": "python",
   "nbconvert_exporter": "python",
   "pygments_lexer": "ipython3",
   "version": "3.8.10"
  }
 },
 "nbformat": 4,
 "nbformat_minor": 5
}
