{
 "cells": [
  {
   "cell_type": "code",
   "execution_count": 1,
   "id": "d9846629-9d29-41b7-8a85-e297cd380043",
   "metadata": {},
   "outputs": [],
   "source": [
    "from schema import Schema\n",
    "from cerberus import Validator\n",
    "from datetime import datetime\n",
    "\n"
   ]
  },
  {
   "cell_type": "code",
   "execution_count": 2,
   "id": "d3fc154e-36a0-42c3-92e6-21daa688bc4f",
   "metadata": {},
   "outputs": [
    {
     "name": "stdout",
     "output_type": "stream",
     "text": [
      "True\n"
     ]
    }
   ],
   "source": [
    "# Convert string to datetime function\n",
    "to_date = lambda val: datetime.strptime(val, \"%Y-%m-%d\")\n",
    "\n",
    "# Validate rules:\n",
    "# Missing fields are not allowed\n",
    "# Empty string are not allowed\n",
    "# Convert string to integer before validating integer type\n",
    "data_schema = {\n",
    "    \"ad_network\": {\"type\": \"string\", \"required\": True, \"empty\": False},\n",
    "    \"date\": {\"type\": \"date\", \"required\": True, \"coerce\": to_date},\n",
    "    \"app_name\": {\"type\": \"string\", \"required\": True, \"empty\": False},\n",
    "    \"unit_id\": {\"type\": \"integer\", \"required\": True, \"coerce\": int},\n",
    "    \"request\": {\"type\": \"integer\", \"required\": True, \"coerce\": int},\n",
    "    \"revenue\": {\"type\": \"float\", \"required\": True, \"coerce\": float},\n",
    "    \"imp\": {\"type\": \"integer\", \"required\": True, \"coerce\": int},\n",
    "}\n",
    "\n",
    "\n",
    "data = {\n",
    "    \"ad_network\": \"FOO\",\n",
    "    \"date\": \"2019-06-05\",\n",
    "    \"app_name\": \"LINETV\",\n",
    "    \"unit_id\": \"55665201314\",\n",
    "    \"request\": \"100\",\n",
    "    \"revenue\": \"0.00365325\",\n",
    "    \"imp\": \"23\",\n",
    "}\n",
    "\n",
    "\n",
    "# error message showed by validator.errors\n",
    "validator = Validator(data_schema)\n",
    "\n",
    "result = validator.validate(data)\n",
    "print(result)"
   ]
  },
  {
   "cell_type": "markdown",
   "id": "2fb80dbc-4b6d-441f-931c-7c6c2573e19b",
   "metadata": {},
   "source": [
    "### Unit test:\n",
    "#### 1. Test empty fields: Empty string or missing fields"
   ]
  },
  {
   "cell_type": "code",
   "execution_count": 3,
   "id": "4aa07506-222b-4c05-b0e1-03014eec0cde",
   "metadata": {},
   "outputs": [
    {
     "name": "stdout",
     "output_type": "stream",
     "text": [
      "Validate missing fields: False\n",
      "Validate empty string: False\n",
      "Validate missing values: False\n"
     ]
    }
   ],
   "source": [
    "\n",
    "# Missing fields\n",
    "test_data = { # missing ad_network\n",
    "    \"date\": \"2019-06-05\",\n",
    "    \"app_name\": \"LINETV\",\n",
    "    \"unit_id\": \"55665201314\",\n",
    "    \"request\": \"100\",\n",
    "    \"revenue\": \"0.00365325\",\n",
    "    \"imp\": \"23\",\n",
    "}\n",
    "\n",
    "result = validator.validate(test_data)\n",
    "print(\"Validate missing fields:\", result)\n",
    "\n",
    "# Empty string\n",
    "test_data = {\n",
    "    \"ad_network\": \"\",   # empty string\n",
    "    \"date\": \"2019-06-05\",\n",
    "    \"app_name\": \"LINETV\",\n",
    "    \"unit_id\": \"55665201314\",\n",
    "    \"request\": \"100\",\n",
    "    \"revenue\": \"0.00365325\",\n",
    "    \"imp\": \"23\",\n",
    "}\n",
    "\n",
    "result = validator.validate(test_data)\n",
    "print(\"Validate empty string:\", result)\n",
    "\n",
    "\n",
    "# Missing values\n",
    "test_data = {\n",
    "    \"ad_network\": None,   # None values in string\n",
    "    \"date\": \"2019-06-05\",\n",
    "    \"app_name\": \"LINETV\",\n",
    "    \"unit_id\": \"55665201314\",\n",
    "    \"request\": \"100\",\n",
    "    \"revenue\": \"0.00365325\",\n",
    "    \"imp\": \"23\",\n",
    "}\n",
    "\n",
    "result = validator.validate(test_data)\n",
    "print(\"Validate missing values:\", result)\n",
    "\n"
   ]
  },
  {
   "cell_type": "markdown",
   "id": "7ee8f624-f1a9-485a-a081-203c3bf70da3",
   "metadata": {},
   "source": [
    "#### 2. Test invalid data type: "
   ]
  },
  {
   "cell_type": "code",
   "execution_count": 5,
   "id": "63d30f83-2b36-4d61-8c45-4eec56f294ad",
   "metadata": {},
   "outputs": [
    {
     "name": "stdout",
     "output_type": "stream",
     "text": [
      "Validate date: False\n",
      "Validate integer with string: False\n",
      "Validate integer with float: False\n"
     ]
    }
   ],
   "source": [
    "# invalid date\n",
    "test_data = { \n",
    "    \"ad_network\":\"FOO\",\n",
    "    \"date\": \"209-06-05\", # invalid date\n",
    "    \"app_name\": \"LINETV\",\n",
    "    \"unit_id\": \"55665201314\",\n",
    "    \"request\": \"100\",\n",
    "    \"revenue\": \"0.00365325\",\n",
    "    \"imp\": \"23\",\n",
    "}\n",
    "\n",
    "result = validator.validate(test_data)\n",
    "print(\"Validate date:\", result)\n",
    "\n",
    "# invalid integer: string character\n",
    "test_data = { \n",
    "    \"ad_network\":\"FOO\",\n",
    "    \"date\": \"2019-06-05\",\n",
    "    \"app_name\": \"LINETV\",\n",
    "    \"unit_id\": \"55665201314\",\n",
    "    \"request\": \"100\",\n",
    "    \"revenue\": \"0.00365325a\", # contain string\n",
    "    \"imp\": \"23\",\n",
    "}\n",
    "\n",
    "result = validator.validate(test_data)\n",
    "print(\"Validate integer with string:\", result)\n",
    "\n",
    "\n",
    "# invalid integer: float number\n",
    "\n",
    "test_data = { \n",
    "    \"ad_network\":\"FOO\",\n",
    "    \"date\": \"2019-06-05\",\n",
    "    \"app_name\": \"LINETV\",\n",
    "    \"unit_id\": \"55665201314.1\", # contain float \n",
    "    \"request\": \"100\",\n",
    "    \"revenue\": \"0.00365325\",\n",
    "    \"imp\": \"23\",\n",
    "}\n",
    "\n",
    "result = validator.validate(test_data)\n",
    "print(\"Validate integer with float:\", result)"
   ]
  },
  {
   "cell_type": "code",
   "execution_count": null,
   "id": "a96d8e05-a849-4eb1-aa9e-c913b10387b2",
   "metadata": {},
   "outputs": [],
   "source": []
  }
 ],
 "metadata": {
  "kernelspec": {
   "display_name": "Python 3 (ipykernel)",
   "language": "python",
   "name": "python3"
  },
  "language_info": {
   "codemirror_mode": {
    "name": "ipython",
    "version": 3
   },
   "file_extension": ".py",
   "mimetype": "text/x-python",
   "name": "python",
   "nbconvert_exporter": "python",
   "pygments_lexer": "ipython3",
   "version": "3.7.9"
  }
 },
 "nbformat": 4,
 "nbformat_minor": 5
}
