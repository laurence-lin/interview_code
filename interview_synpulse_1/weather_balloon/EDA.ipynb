{
 "cells": [
  {
   "cell_type": "markdown",
   "id": "be9f3926-74c3-4967-ba13-c306d91ab145",
   "metadata": {},
   "source": [
    "### Apply ORM with python SQLAlchemy to perform EDA on simulated weather balloon data\n",
    "\n",
    "#### Assumptions in simulated weather balloon data:\n",
    "#### - All fields may contain missing data and invalid data, they are defined as NULL in table column\n",
    "#### - If timestamp is invalid in that single sample, whole row is abandoned. The simulated table would not contain timestamp with NULL value.\n",
    "#### - We simulate the weather balloon exists exact one in each observatory site, and the location of weather balloon moves around in initial location\n",
    "#### - The temperature in each observatory site ranges from (-273, 100)\n"
   ]
  },
  {
   "cell_type": "code",
   "execution_count": 1,
   "id": "032d4860-05f9-4c90-9624-1f08ef2e81db",
   "metadata": {},
   "outputs": [],
   "source": [
    "import sqlalchemy\n",
    "import pandas as pd\n",
    "import numpy as np\n",
    "import yaml\n",
    "\n",
    "import matplotlib.pyplot as plt\n",
    "import seaborn as sns\n",
    "\n",
    "from sqlalchemy import create_engine\n"
   ]
  },
  {
   "cell_type": "markdown",
   "id": "ceddb849-5f7e-4708-9e6a-e7c8c1cf792f",
   "metadata": {},
   "source": [
    "#### 0. Show overview of simulated data"
   ]
  },
  {
   "cell_type": "code",
   "execution_count": 2,
   "id": "bce070db-e3ae-4bdd-a28e-7a6888ef0715",
   "metadata": {},
   "outputs": [
    {
     "name": "stdout",
     "output_type": "stream",
     "text": [
      "Connected to synpulse database\n"
     ]
    }
   ],
   "source": [
    "with open(\"secret.yml\", \"r\") as file:\n",
    "    connect_str = yaml.safe_load(file)['synpulse']\n",
    "\n",
    "engine = create_engine(connect_str)\n",
    "\n",
    "conn = engine.connect()\n",
    "\n",
    "print(\"Connected to synpulse database\")\n"
   ]
  },
  {
   "cell_type": "code",
   "execution_count": 26,
   "id": "1c9fd9c1-2b2f-4ddf-a3f1-3f589cc3e703",
   "metadata": {},
   "outputs": [
    {
     "name": "stdout",
     "output_type": "stream",
     "text": [
      "We totally have 500000000 simulated samples\n",
      "CPU times: user 4.63 ms, sys: 3.25 ms, total: 7.88 ms\n",
      "Wall time: 1min 53s\n"
     ]
    }
   ],
   "source": [
    "%%time\n",
    "\n",
    "n_samples = conn.execute(\n",
    "'''\n",
    "select count(1)\n",
    "from weather_main\n",
    "'''\n",
    ")\n",
    "\n",
    "n_samples = n_samples.all()[0]\n",
    "\n",
    "n_sample = n_samples[0]\n",
    "print(\"We totally have {} simulated samples\".format(n_sample))\n"
   ]
  },
  {
   "cell_type": "code",
   "execution_count": 23,
   "id": "8977153c-d3c7-4c8a-b9be-721244335515",
   "metadata": {},
   "outputs": [
    {
     "name": "stdout",
     "output_type": "stream",
     "text": [
      "Over view of data:\n",
      "CPU times: user 13.5 ms, sys: 1.53 ms, total: 15 ms\n",
      "Wall time: 1min 58s\n"
     ]
    },
    {
     "data": {
      "text/html": [
       "<div>\n",
       "<style scoped>\n",
       "    .dataframe tbody tr th:only-of-type {\n",
       "        vertical-align: middle;\n",
       "    }\n",
       "\n",
       "    .dataframe tbody tr th {\n",
       "        vertical-align: top;\n",
       "    }\n",
       "\n",
       "    .dataframe thead th {\n",
       "        text-align: right;\n",
       "    }\n",
       "</style>\n",
       "<table border=\"1\" class=\"dataframe\">\n",
       "  <thead>\n",
       "    <tr style=\"text-align: right;\">\n",
       "      <th></th>\n",
       "      <th>time_stamp</th>\n",
       "      <th>latitude</th>\n",
       "      <th>longitude</th>\n",
       "      <th>temperature</th>\n",
       "      <th>country_code</th>\n",
       "    </tr>\n",
       "  </thead>\n",
       "  <tbody>\n",
       "    <tr>\n",
       "      <th>0</th>\n",
       "      <td>1902-01-01 00:00:00</td>\n",
       "      <td>58.007982</td>\n",
       "      <td>47.543470</td>\n",
       "      <td>-220.868499</td>\n",
       "      <td>LR</td>\n",
       "    </tr>\n",
       "    <tr>\n",
       "      <th>1</th>\n",
       "      <td>1902-01-01 00:01:00</td>\n",
       "      <td>55.840886</td>\n",
       "      <td>73.623140</td>\n",
       "      <td>NaN</td>\n",
       "      <td>AM</td>\n",
       "    </tr>\n",
       "    <tr>\n",
       "      <th>2</th>\n",
       "      <td>1902-01-01 00:02:00</td>\n",
       "      <td>41.959988</td>\n",
       "      <td>156.484608</td>\n",
       "      <td>-17.037659</td>\n",
       "      <td>UG</td>\n",
       "    </tr>\n",
       "    <tr>\n",
       "      <th>3</th>\n",
       "      <td>1902-01-01 00:03:00</td>\n",
       "      <td>12.452897</td>\n",
       "      <td>100.077592</td>\n",
       "      <td>-264.029272</td>\n",
       "      <td>NG</td>\n",
       "    </tr>\n",
       "    <tr>\n",
       "      <th>4</th>\n",
       "      <td>1902-01-01 00:04:00</td>\n",
       "      <td>63.480154</td>\n",
       "      <td>116.327372</td>\n",
       "      <td>-80.156508</td>\n",
       "      <td>BE</td>\n",
       "    </tr>\n",
       "    <tr>\n",
       "      <th>5</th>\n",
       "      <td>1902-01-01 00:05:00</td>\n",
       "      <td>39.260235</td>\n",
       "      <td>157.720982</td>\n",
       "      <td>-80.023064</td>\n",
       "      <td>MW</td>\n",
       "    </tr>\n",
       "    <tr>\n",
       "      <th>6</th>\n",
       "      <td>1902-01-01 00:06:00</td>\n",
       "      <td>72.924220</td>\n",
       "      <td>134.470789</td>\n",
       "      <td>-73.259571</td>\n",
       "      <td>CL</td>\n",
       "    </tr>\n",
       "    <tr>\n",
       "      <th>7</th>\n",
       "      <td>1902-01-01 00:07:00</td>\n",
       "      <td>52.804235</td>\n",
       "      <td>108.121082</td>\n",
       "      <td>-51.014848</td>\n",
       "      <td>CA</td>\n",
       "    </tr>\n",
       "    <tr>\n",
       "      <th>8</th>\n",
       "      <td>1902-01-01 00:08:00</td>\n",
       "      <td>3.575166</td>\n",
       "      <td>52.539715</td>\n",
       "      <td>-33.862505</td>\n",
       "      <td>KW</td>\n",
       "    </tr>\n",
       "    <tr>\n",
       "      <th>9</th>\n",
       "      <td>1902-01-01 00:09:00</td>\n",
       "      <td>20.705421</td>\n",
       "      <td>170.950981</td>\n",
       "      <td>12.808222</td>\n",
       "      <td>AF</td>\n",
       "    </tr>\n",
       "  </tbody>\n",
       "</table>\n",
       "</div>"
      ],
      "text/plain": [
       "           time_stamp   latitude   longitude  temperature country_code\n",
       "0 1902-01-01 00:00:00  58.007982   47.543470  -220.868499           LR\n",
       "1 1902-01-01 00:01:00  55.840886   73.623140          NaN           AM\n",
       "2 1902-01-01 00:02:00  41.959988  156.484608   -17.037659           UG\n",
       "3 1902-01-01 00:03:00  12.452897  100.077592  -264.029272           NG\n",
       "4 1902-01-01 00:04:00  63.480154  116.327372   -80.156508           BE\n",
       "5 1902-01-01 00:05:00  39.260235  157.720982   -80.023064           MW\n",
       "6 1902-01-01 00:06:00  72.924220  134.470789   -73.259571           CL\n",
       "7 1902-01-01 00:07:00  52.804235  108.121082   -51.014848           CA\n",
       "8 1902-01-01 00:08:00   3.575166   52.539715   -33.862505           KW\n",
       "9 1902-01-01 00:09:00  20.705421  170.950981    12.808222           AF"
      ]
     },
     "execution_count": 23,
     "metadata": {},
     "output_type": "execute_result"
    }
   ],
   "source": [
    "%%time\n",
    "\n",
    "df = pd.read_sql(\n",
    " '''\n",
    " select time_stamp, latitude, longitude, temperature, country_code from\n",
    " weather_main\n",
    " order by time_stamp\n",
    " limit 10\n",
    " ''', conn\n",
    ")\n",
    "\n",
    "print(\"Over view of data:\")\n",
    "\n",
    "df\n"
   ]
  },
  {
   "cell_type": "markdown",
   "id": "d30ac1ff-885a-4c72-b976-7abe2b4180a4",
   "metadata": {},
   "source": [
    "#### Observatory is displayed as 'country_code' in the field\n",
    "#### Location is presented as latitude and longitude field"
   ]
  },
  {
   "cell_type": "markdown",
   "id": "77904097-626c-41bf-8034-e53aa0f64f2c",
   "metadata": {},
   "source": [
    "#### Parse the timestamp contents of the data:"
   ]
  },
  {
   "cell_type": "code",
   "execution_count": 22,
   "id": "a6d451ea-9c22-4f91-b63d-32f023659b95",
   "metadata": {},
   "outputs": [
    {
     "name": "stdout",
     "output_type": "stream",
     "text": [
      "CPU times: user 8.38 ms, sys: 0 ns, total: 8.38 ms\n",
      "Wall time: 1min 54s\n"
     ]
    }
   ],
   "source": [
    "%%time\n",
    "\n",
    "max_min_time = conn.execute(\n",
    "'''\n",
    "select max(time_stamp), min(time_stamp)\n",
    "from weather_main\n",
    "'''\n",
    ")\n",
    "\n",
    "max_min_time = max_min_time.all()\n"
   ]
  },
  {
   "cell_type": "code",
   "execution_count": 31,
   "id": "d10eab9f-ea38-4777-a70c-121eea190b67",
   "metadata": {},
   "outputs": [
    {
     "name": "stdout",
     "output_type": "stream",
     "text": [
      "Max date in data: 2871-09-03 15:59:00\n",
      "Min date in data: 1902-01-01 00:00:00\n",
      "Proportion 0.02 of the collected data is missing in the simulated data\n"
     ]
    }
   ],
   "source": [
    "from datetime import datetime\n",
    "\n",
    "max_date = max_min_time[0][0]\n",
    "min_date = max_min_time[0][1]\n",
    "\n",
    "total_minutes = (max_date - min_date).total_seconds()/60.0 # total minutes, expected number of samples while collect weather by minute\n",
    "\n",
    "miss_partition = 1 - (n_sample/total_minutes) # proportion of missing timestamp: 1 - exact number of samples/exact time scan in minutes\n",
    "\n",
    "max_date = datetime.strftime(max_date, \"%Y-%m-%d %H:%M:%S\")\n",
    "min_date = datetime.strftime(min_date, \"%Y-%m-%d %H:%M:%S\")\n",
    "\n",
    "print(\"Max date in data:\", max_date)\n",
    "print(\"Min date in data:\", min_date)\n",
    "\n",
    "print(\"Proportion {} of the collected data is missing in the simulated data\".format(round(miss_partition, 3)))"
   ]
  },
  {
   "cell_type": "markdown",
   "id": "13370fd1-fb43-49d3-bbee-09e5eb36eecb",
   "metadata": {},
   "source": [
    "#### 1. Parse the missing rate of each fields"
   ]
  },
  {
   "cell_type": "code",
   "execution_count": 7,
   "id": "c51a039b-f34a-4e16-b79a-481a084ed065",
   "metadata": {},
   "outputs": [
    {
     "name": "stdout",
     "output_type": "stream",
     "text": [
      "Temperature missing count: 28974581\n",
      "CPU times: user 59 µs, sys: 35 µs, total: 94 µs\n",
      "Wall time: 66.5 µs\n"
     ]
    }
   ],
   "source": [
    "%%time\n",
    "\"\"\"\n",
    "temp_na = conn.execute(\n",
    " '''\n",
    " select count(1)\n",
    " from weather_main\n",
    " where temperature is NULL\n",
    " '''\n",
    ")\n",
    "\n",
    "temp_na = temp_na.all()[0]\n",
    "\"\"\"\n",
    "\n",
    "print(\"Temperature missing count:\", temp_na[0])"
   ]
  },
  {
   "cell_type": "code",
   "execution_count": 11,
   "id": "294e1d0f-9f5c-40c6-adee-27a760dbcd15",
   "metadata": {},
   "outputs": [
    {
     "name": "stdout",
     "output_type": "stream",
     "text": [
      "Latitude missing count: 10011020\n",
      "CPU times: user 4.7 ms, sys: 2.77 ms, total: 7.47 ms\n",
      "Wall time: 1min 50s\n"
     ]
    }
   ],
   "source": [
    "%%time \n",
    "\n",
    "lat_na = conn.execute(\n",
    " '''\n",
    " select count(1)\n",
    " from weather_main\n",
    " where latitude is NULL\n",
    " '''\n",
    ")\n",
    "\n",
    "lat_na = lat_na.all()[0]\n",
    "\n",
    "print(\"Latitude missing count:\", lat_na[0])\n"
   ]
  },
  {
   "cell_type": "code",
   "execution_count": 12,
   "id": "62f31265-0e9e-4cc6-a362-996eeda4ef32",
   "metadata": {},
   "outputs": [
    {
     "name": "stdout",
     "output_type": "stream",
     "text": [
      "Longitude missing count: 10013210\n",
      "CPU times: user 3.07 ms, sys: 5.34 ms, total: 8.42 ms\n",
      "Wall time: 1min 49s\n"
     ]
    }
   ],
   "source": [
    "%%time\n",
    "\n",
    "long_na = conn.execute(\n",
    " '''\n",
    " select count(1)\n",
    " from weather_main\n",
    " where longitude is NULL\n",
    " '''\n",
    ")\n",
    "\n",
    "long_na = long_na.all()[0]\n",
    "\n",
    "print(\"Longitude missing count:\", long_na[0])\n"
   ]
  },
  {
   "cell_type": "code",
   "execution_count": 10,
   "id": "fda6b243-211f-4c98-ae11-a9074c70d8eb",
   "metadata": {},
   "outputs": [
    {
     "name": "stdout",
     "output_type": "stream",
     "text": [
      "Country code missing count: 2490200\n",
      "CPU times: user 47 µs, sys: 28 µs, total: 75 µs\n",
      "Wall time: 78.7 µs\n"
     ]
    }
   ],
   "source": [
    "%%time\n",
    "\n",
    "country_na = conn.execute(\n",
    " '''\n",
    " select count(1)\n",
    " from weather_main\n",
    " where country_code is NULL\n",
    " '''\n",
    ")\n",
    "\n",
    "country_na = country_na.all()[0]\n",
    "\n",
    "print(\"Country code missing count:\", country_na[0])"
   ]
  },
  {
   "cell_type": "code",
   "execution_count": 21,
   "id": "b19782ad-cd25-4670-965a-00155bfd3bca",
   "metadata": {},
   "outputs": [],
   "source": [
    "# Compare the missing rate of each fields\n",
    "\n",
    "missing_rate = {\"temperature\":round(temp_na[0]/n_sample, 3),\n",
    "               \"latitude\":round(lat_na[0]/n_sample, 3),\n",
    "                \"longitude\":round(long_na[0]/n_sample, 3),\n",
    "                \"country_code\":round(country_na[0]/n_sample, 3)\n",
    "               }\n",
    "\n"
   ]
  },
  {
   "cell_type": "code",
   "execution_count": 28,
   "id": "8c9b2717-05ff-44f2-aac7-425cf9b9e951",
   "metadata": {},
   "outputs": [
    {
     "data": {
      "text/plain": [
       "Text(0, 0.5, 'Proportion of missing data (%)')"
      ]
     },
     "execution_count": 28,
     "metadata": {},
     "output_type": "execute_result"
    },
    {
     "data": {
      "image/png": "[encoded data removed]",
      "text/plain": [
       "<Figure size 432x288 with 1 Axes>"
      ]
     },
     "metadata": {
      "needs_background": "light"
     },
     "output_type": "display_data"
    }
   ],
   "source": [
    "ax = sns.barplot(x= list(missing_rate.keys()), y = list(missing_rate.values()),\n",
    "                )\n",
    "\n",
    "ax.bar_label(ax.containers[0])\n",
    "plt.title(\"Missing rate for each field\")\n",
    "plt.ylabel(\"Proportion of missing data (%)\")"
   ]
  },
  {
   "cell_type": "markdown",
   "id": "526bc0af-bb55-446d-adc0-b2d68d82170c",
   "metadata": {},
   "source": [
    "#### Temperature value has the most percentage of invalid or missing values\n",
    "#### Location field (latitude, longitude) have similar missing value percentage\n",
    "#### Country code has the less missing value percentage. The country code is not collected by measurement, instead it is related to the location of the weather balloon."
   ]
  },
  {
   "cell_type": "markdown",
   "id": "48fce383-5ff4-4dbe-ba90-7502c99b68b0",
   "metadata": {},
   "source": [
    "#### 2. Parse distibutions based on different observatory"
   ]
  },
  {
   "cell_type": "code",
   "execution_count": 6,
   "id": "4c560907-3877-4bac-a7e9-c66721912d72",
   "metadata": {},
   "outputs": [
    {
     "name": "stdout",
     "output_type": "stream",
     "text": [
      "CPU times: user 8.89 ms, sys: 0 ns, total: 8.89 ms\n",
      "Wall time: 2min 15s\n"
     ]
    }
   ],
   "source": [
    "%%time\n",
    "\n",
    "# Display distributions of all weather balloon in each observatory site: \n",
    "# Caculate average location for each site\n",
    "\n",
    "lat_long_mean = conn.execute(\n",
    " '''\n",
    " select country_code, avg(latitude), avg(longitude)\n",
    " from weather_main\n",
    " group by country_code;\n",
    " '''\n",
    ")\n",
    "\n",
    "lat_long_mean = lat_long_mean.all() # [{'country_code', latitude_average, longitude_average}, ...]\n"
   ]
  },
  {
   "cell_type": "code",
   "execution_count": 9,
   "id": "e0e92d2b-e390-4f82-ae18-3fe08f6eae9c",
   "metadata": {},
   "outputs": [
    {
     "name": "stdout",
     "output_type": "stream",
     "text": [
      "Preview of average position:\n"
     ]
    },
    {
     "data": {
      "text/plain": [
       "[('AD', 19.416772035381868, 153.2347530559721),\n",
       " ('AE', 44.891656764760064, 42.617164410188394),\n",
       " ('AF', 18.462833681972405, 172.98434745692165),\n",
       " ('AG', 7.364077985482587, 135.48194946562316),\n",
       " ('AI', 25.7850172786105, 20.971769757935764)]"
      ]
     },
     "execution_count": 9,
     "metadata": {},
     "output_type": "execute_result"
    }
   ],
   "source": [
    "print(\"Preview of average position:\")\n",
    "lat_long_mean[0:5]"
   ]
  },
  {
   "cell_type": "code",
   "execution_count": 14,
   "id": "3740b0f0-b94d-4048-bfc2-fb36219434ab",
   "metadata": {},
   "outputs": [
    {
     "data": {
      "text/plain": [
       "Text(0, 0.5, 'Average longitude')"
      ]
     },
     "execution_count": 14,
     "metadata": {},
     "output_type": "execute_result"
    },
    {
     "data": {
      "image/png": "[encoded data removed]",
      "text/plain": [
       "<Figure size 432x288 with 1 Axes>"
      ]
     },
     "metadata": {
      "needs_background": "light"
     },
     "output_type": "display_data"
    }
   ],
   "source": [
    "\n",
    "N_SITE = len(lat_long_mean)\n",
    "\n",
    "lat_pos = list(map(lambda val: val[1], lat_long_mean))\n",
    "long_pos = list(map(lambda val: val[2], lat_long_mean))\n",
    "\n",
    "plt.scatter(lat_pos, long_pos, marker=\"x\")\n",
    "plt.title(\"Average location for {} observatory site\".format(N_SITE))\n",
    "plt.xlabel(\"Average latitude\")\n",
    "plt.ylabel(\"Average longitude\")"
   ]
  },
  {
   "cell_type": "markdown",
   "id": "37ad63c4-0ece-4bd7-a530-c5badf13c5e5",
   "metadata": {},
   "source": [
    "#### We can see the location of observatory site distributed separately in different places, there is no specific outliers"
   ]
  },
  {
   "cell_type": "code",
   "execution_count": 33,
   "id": "0f12c4cc-864c-4bdc-a1f9-b1e0916582e5",
   "metadata": {},
   "outputs": [
    {
     "name": "stdout",
     "output_type": "stream",
     "text": [
      "CPU times: user 11 ms, sys: 353 µs, total: 11.3 ms\n",
      "Wall time: 2min 24s\n"
     ]
    }
   ],
   "source": [
    "%%time\n",
    "\n",
    "# Observe the correlation of location with respect to temperature\n",
    "\n",
    "lat_long_tmp = conn.execute(\n",
    " '''\n",
    " select country_code, avg(latitude), avg(longitude), avg(temperature)\n",
    " from weather_main\n",
    " group by country_code;\n",
    " '''\n",
    ")\n",
    "\n",
    "lat_long_tmp = lat_long_tmp.all() # [{'country_code', latitude_average, longitude_average}, ...]\n",
    "\n"
   ]
  },
  {
   "cell_type": "code",
   "execution_count": 36,
   "id": "8cefa7f6-07a6-4019-8dd2-66bcdad7948b",
   "metadata": {},
   "outputs": [
    {
     "data": {
      "text/plain": [
       "<seaborn.axisgrid.FacetGrid at 0x7fb2a98cb460>"
      ]
     },
     "execution_count": 36,
     "metadata": {},
     "output_type": "execute_result"
    },
    {
     "data": {
      "image/png": "[encoded data removed]",
      "text/plain": [
       "<Figure size 360x360 with 1 Axes>"
      ]
     },
     "metadata": {
      "needs_background": "light"
     },
     "output_type": "display_data"
    }
   ],
   "source": [
    "temperature = list(map(lambda val: val[3], lat_long_tmp))\n",
    "\n",
    "lat_long_temp = pd.DataFrame({\"latitude\":lat_pos, \"temperature\":temperature})\n",
    "sns.lmplot(x=\"latitude\", y=\"temperature\", data=lat_long_temp)"
   ]
  },
  {
   "cell_type": "markdown",
   "id": "53327a3b-f39d-4a24-8f62-275ce0537272",
   "metadata": {},
   "source": [
    "#### There seems to be no clear linear relationship between latitude and temperature, which violate our expectations that as latitude increase, temperature should falls. \n",
    "#### However, since we didn't consider the relationship between these two when generating simulation data, this is reasonable."
   ]
  },
  {
   "cell_type": "code",
   "execution_count": 39,
   "id": "edfc40a2-f523-4050-b95f-468ec4856a5e",
   "metadata": {},
   "outputs": [
    {
     "name": "stdout",
     "output_type": "stream",
     "text": [
      "Maximum temperature in sample: 99.49981422534472\n",
      "Minumum temperature in sample: -273.5392268997839\n",
      "CPU times: user 87 µs, sys: 61 µs, total: 148 µs\n",
      "Wall time: 124 µs\n"
     ]
    }
   ],
   "source": [
    "%%time \n",
    "\n",
    "max_min_temp = conn.execute(\n",
    " '''\n",
    " select max(temperature), min(temperature)\n",
    " from weather_main\n",
    " '''\n",
    ")\n",
    "\n",
    "max_min_temp = max_min_temp.all()\n",
    "\n",
    "# Show maximum temperature and minimum temperature\n",
    "\n",
    "print(\"Maximum temperature in sample:\", max(max_min_temp[0]))\n",
    "print(\"Minumum temperature in sample:\", min(max_min_temp[0]))\n"
   ]
  },
  {
   "cell_type": "code",
   "execution_count": 40,
   "id": "8540a2af-51a5-48fe-ac19-f224b4c3eb6a",
   "metadata": {},
   "outputs": [
    {
     "name": "stdout",
     "output_type": "stream",
     "text": [
      "CPU times: user 6.7 ms, sys: 4.68 ms, total: 11.4 ms\n",
      "Wall time: 2min 53s\n"
     ]
    }
   ],
   "source": [
    "%%time\n",
    "\n",
    "# Show variance of temperature in each observatory site\n",
    "\n",
    "temp_var = conn.execute(\n",
    " '''\n",
    " select country_code, var_samp(temperature)\n",
    " from weather_main\n",
    " group by country_code\n",
    " '''\n",
    ")\n",
    "\n",
    "temp_var = temp_var.all()\n"
   ]
  },
  {
   "cell_type": "code",
   "execution_count": 45,
   "id": "ca553969-e82d-481b-a690-c93dc8283f5d",
   "metadata": {},
   "outputs": [
    {
     "name": "stdout",
     "output_type": "stream",
     "text": [
      "Observatory site and temperature variance:\n"
     ]
    },
    {
     "data": {
      "text/plain": [
       "[('AD', 0.010002589591701338),\n",
       " ('AE', 0.009989263780895152),\n",
       " ('AF', 0.01001018182691441),\n",
       " ('AG', 0.009975917224877897),\n",
       " ('AI', 0.009988118964205659)]"
      ]
     },
     "execution_count": 45,
     "metadata": {},
     "output_type": "execute_result"
    }
   ],
   "source": [
    "print(\"Observatory site and temperature variance:\")\n",
    "\n",
    "temp_var[0:5]\n"
   ]
  },
  {
   "cell_type": "code",
   "execution_count": 66,
   "id": "cce9dc6c-f1b2-4d89-916a-a8ad0f7429c6",
   "metadata": {},
   "outputs": [
    {
     "data": {
      "text/plain": [
       "Text(0.5, 1.0, 'Temperature variance in each observatory site')"
      ]
     },
     "execution_count": 66,
     "metadata": {},
     "output_type": "execute_result"
    },
    {
     "data": {
      "image/png": "[encoded data removed]",
      "text/plain": [
       "<Figure size 432x288 with 1 Axes>"
      ]
     },
     "metadata": {
      "needs_background": "light"
     },
     "output_type": "display_data"
    }
   ],
   "source": [
    "temp_var_val = list(map(lambda val: val[1], temp_var))[:-1]\n",
    "\n",
    "plt.plot(temp_var_val)\n",
    "plt.xlabel(\"observatory site\")\n",
    "plt.ylabel(\"Temperature variance\")\n",
    "plt.title(\"Temperature variance in each observatory site\")"
   ]
  },
  {
   "cell_type": "markdown",
   "id": "d1dd6cfd-e5e3-42c2-83f3-ebe47b71bd34",
   "metadata": {},
   "source": [
    "#### There is no too much variance of temperature variance in each observatory site"
   ]
  },
  {
   "cell_type": "code",
   "execution_count": 47,
   "id": "b00726cf-d3e4-4867-9795-8befc5a53bae",
   "metadata": {},
   "outputs": [
    {
     "name": "stdout",
     "output_type": "stream",
     "text": [
      "Observatory site and latitude variance:\n",
      "CPU times: user 10.8 ms, sys: 0 ns, total: 10.8 ms\n",
      "Wall time: 2min 19s\n"
     ]
    },
    {
     "data": {
      "text/plain": [
       "[('AD', 24.990039372858472),\n",
       " ('AE', 24.97411675714515),\n",
       " ('AF', 25.015564769622067),\n",
       " ('AG', 24.999956662183063),\n",
       " ('AI', 24.997725727781134)]"
      ]
     },
     "execution_count": 47,
     "metadata": {},
     "output_type": "execute_result"
    }
   ],
   "source": [
    "%%time\n",
    "\n",
    "# Show variance of latitude in each site\n",
    "\n",
    "lat_var = conn.execute(\n",
    " '''\n",
    " select country_code, var_samp(latitude)\n",
    " from weather_main\n",
    " group by country_code\n",
    " '''\n",
    ")\n",
    "\n",
    "lat_var = lat_var.all()\n",
    "\n",
    "print(\"Observatory site and latitude variance:\")\n",
    "\n",
    "lat_var[0:5]"
   ]
  },
  {
   "cell_type": "code",
   "execution_count": 68,
   "id": "2d3218da-3dd7-47a4-9a5a-97cc63f9f89c",
   "metadata": {},
   "outputs": [
    {
     "data": {
      "text/plain": [
       "Text(0.5, 1.0, 'Latitude variance in each observatory site')"
      ]
     },
     "execution_count": 68,
     "metadata": {},
     "output_type": "execute_result"
    },
    {
     "data": {
      "image/png": "[encoded data removed]",
      "text/plain": [
       "<Figure size 432x288 with 1 Axes>"
      ]
     },
     "metadata": {
      "needs_background": "light"
     },
     "output_type": "display_data"
    }
   ],
   "source": [
    "lat_var_val = list(map(lambda val: val[1], lat_var))[:-1]\n",
    "\n",
    "plt.plot(lat_var_val)\n",
    "plt.xlabel(\"observatory site\")\n",
    "plt.ylabel(\"Latitude variance\")\n",
    "plt.title(\"Latitude variance in each observatory site\")\n"
   ]
  },
  {
   "cell_type": "markdown",
   "id": "7203a312-98af-437d-80bd-fe7ee612f6f0",
   "metadata": {},
   "source": [
    "### We can see that in our simulated data, in each observatory site the temperature and latitude don't vary much.\n",
    "#### The simulated weather balloon movement oscillated around a fixed area"
   ]
  },
  {
   "cell_type": "code",
   "execution_count": null,
   "id": "7b44d472-e45e-4346-baf0-eeb8f31eadbc",
   "metadata": {},
   "outputs": [],
   "source": []
  }
 ],
 "metadata": {
  "kernelspec": {
   "display_name": "Python 3 (ipykernel)",
   "language": "python",
   "name": "python3"
  },
  "language_info": {
   "codemirror_mode": {
    "name": "ipython",
    "version": 3
   },
   "file_extension": ".py",
   "mimetype": "text/x-python",
   "name": "python",
   "nbconvert_exporter": "python",
   "pygments_lexer": "ipython3",
   "version": "3.8.10"
  }
 },
 "nbformat": 4,
 "nbformat_minor": 5
}
